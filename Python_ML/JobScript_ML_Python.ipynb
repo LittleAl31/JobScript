{
 "cells": [
  {
   "cell_type": "code",
   "execution_count": 110,
   "id": "9dec3039",
   "metadata": {},
   "outputs": [],
   "source": [
    "# Import libraries\n",
    "\n",
    "import numpy as np\n",
    "import pandas as pd"
   ]
  },
  {
   "cell_type": "code",
   "execution_count": 111,
   "id": "d0d91683",
   "metadata": {},
   "outputs": [],
   "source": [
    "\n",
    "jobData_df = pd.read_csv('fake_job_postings.csv', low_memory=False) #Our job listing dataset\n",
    "\n",
    "projections_df = pd.read_csv('Employment_Projections.csv', low_memory=False) #Our occupation projection dataset\n",
    "\n",
    "test_df = pd.read_csv('fake_job_postings.csv', low_memory=False) #Job listing data stored in a separate 'test' dataframe\n",
    "\n"
   ]
  },
  {
   "cell_type": "markdown",
   "id": "579fa3b8",
   "metadata": {},
   "source": [
    "# Data Pre-Processing"
   ]
  },
  {
   "cell_type": "code",
   "execution_count": 112,
   "id": "16a66225",
   "metadata": {},
   "outputs": [
    {
     "data": {
      "text/plain": [
       "<bound method DataFrame.info of        job_id                                              title  \\\n",
       "0           1                                   Marketing Intern   \n",
       "1           2          Customer Service - Cloud Video Production   \n",
       "2           3            Commissioning Machinery Assistant (CMA)   \n",
       "3           4                  Account Executive - Washington DC   \n",
       "4           5                                Bill Review Manager   \n",
       "...       ...                                                ...   \n",
       "17875   17876                   Account Director - Distribution    \n",
       "17876   17877                                 Payroll Accountant   \n",
       "17877   17878  Project Cost Control Staff Engineer - Cost Con...   \n",
       "17878   17879                                   Graphic Designer   \n",
       "17879   17880                         Web Application Developers   \n",
       "\n",
       "                   location   department salary_range  \\\n",
       "0          US, NY, New York    Marketing          NaN   \n",
       "1            NZ, , Auckland      Success          NaN   \n",
       "2             US, IA, Wever          NaN          NaN   \n",
       "3        US, DC, Washington        Sales          NaN   \n",
       "4        US, FL, Fort Worth          NaN          NaN   \n",
       "...                     ...          ...          ...   \n",
       "17875       CA, ON, Toronto        Sales          NaN   \n",
       "17876  US, PA, Philadelphia   Accounting          NaN   \n",
       "17877       US, TX, Houston          NaN          NaN   \n",
       "17878         NG, LA, Lagos          NaN          NaN   \n",
       "17879     NZ, N, Wellington  Engineering          NaN   \n",
       "\n",
       "                                         company_profile  \\\n",
       "0      We're Food52, and we've created a groundbreaki...   \n",
       "1      90 Seconds, the worlds Cloud Video Production ...   \n",
       "2      Valor Services provides Workforce Solutions th...   \n",
       "3      Our passion for improving quality of life thro...   \n",
       "4      SpotSource Solutions LLC is a Global Human Cap...   \n",
       "...                                                  ...   \n",
       "17875  Vend is looking for some awesome new talent to...   \n",
       "17876  WebLinc is the e-commerce platform and service...   \n",
       "17877  We Provide Full Time Permanent Positions for m...   \n",
       "17878                                                NaN   \n",
       "17879  Vend is looking for some awesome new talent to...   \n",
       "\n",
       "                                             description  \\\n",
       "0      Food52, a fast-growing, James Beard Award-winn...   \n",
       "1      Organised - Focused - Vibrant - Awesome!Do you...   \n",
       "2      Our client, located in Houston, is actively se...   \n",
       "3      THE COMPANY: ESRI – Environmental Systems Rese...   \n",
       "4      JOB TITLE: Itemization Review ManagerLOCATION:...   \n",
       "...                                                  ...   \n",
       "17875  Just in case this is the first time you’ve vis...   \n",
       "17876  The Payroll Accountant will focus primarily on...   \n",
       "17877  Experienced Project Cost Control Staff Enginee...   \n",
       "17878  Nemsia Studios is looking for an experienced v...   \n",
       "17879  Who are we?Vend is an award winning web based ...   \n",
       "\n",
       "                                            requirements  \\\n",
       "0      Experience with content management systems a m...   \n",
       "1      What we expect from you:Your key responsibilit...   \n",
       "2      Implement pre-commissioning and commissioning ...   \n",
       "3      EDUCATION: Bachelor’s or Master’s in GIS, busi...   \n",
       "4      QUALIFICATIONS:RN license in the State of Texa...   \n",
       "...                                                  ...   \n",
       "17875  To ace this role you:Will eat comprehensive St...   \n",
       "17876  - B.A. or B.S. in Accounting- Desire to have f...   \n",
       "17877  At least 12 years professional experience.Abil...   \n",
       "17878  1. Must be fluent in the latest versions of Co...   \n",
       "17879  We want to hear from you if:You have an in-dep...   \n",
       "\n",
       "                                                benefits  telecommuting  \\\n",
       "0                                                    NaN              0   \n",
       "1      What you will get from usThrough being part of...              0   \n",
       "2                                                    NaN              0   \n",
       "3      Our culture is anything but corporate—we have ...              0   \n",
       "4                                  Full Benefits Offered              0   \n",
       "...                                                  ...            ...   \n",
       "17875  What can you expect from us?We have an open cu...              0   \n",
       "17876  Health &amp; WellnessMedical planPrescription ...              0   \n",
       "17877                                                NaN              0   \n",
       "17878  Competitive salary (compensation will be based...              0   \n",
       "17879                                                NaN              0   \n",
       "\n",
       "       has_company_logo  has_questions employment_type required_experience  \\\n",
       "0                     1              0           Other          Internship   \n",
       "1                     1              0       Full-time      Not Applicable   \n",
       "2                     1              0             NaN                 NaN   \n",
       "3                     1              0       Full-time    Mid-Senior level   \n",
       "4                     1              1       Full-time    Mid-Senior level   \n",
       "...                 ...            ...             ...                 ...   \n",
       "17875                 1              1       Full-time    Mid-Senior level   \n",
       "17876                 1              1       Full-time    Mid-Senior level   \n",
       "17877                 0              0       Full-time                 NaN   \n",
       "17878                 0              1        Contract      Not Applicable   \n",
       "17879                 1              1       Full-time    Mid-Senior level   \n",
       "\n",
       "      required_education                   industry              function  \\\n",
       "0                    NaN                        NaN             Marketing   \n",
       "1                    NaN  Marketing and Advertising      Customer Service   \n",
       "2                    NaN                        NaN                   NaN   \n",
       "3      Bachelor's Degree          Computer Software                 Sales   \n",
       "4      Bachelor's Degree     Hospital & Health Care  Health Care Provider   \n",
       "...                  ...                        ...                   ...   \n",
       "17875                NaN          Computer Software                 Sales   \n",
       "17876  Bachelor's Degree                   Internet   Accounting/Auditing   \n",
       "17877                NaN                        NaN                   NaN   \n",
       "17878       Professional             Graphic Design                Design   \n",
       "17879                NaN          Computer Software           Engineering   \n",
       "\n",
       "       fraudulent  \n",
       "0               0  \n",
       "1               0  \n",
       "2               0  \n",
       "3               0  \n",
       "4               0  \n",
       "...           ...  \n",
       "17875           0  \n",
       "17876           0  \n",
       "17877           0  \n",
       "17878           0  \n",
       "17879           0  \n",
       "\n",
       "[17880 rows x 18 columns]>"
      ]
     },
     "execution_count": 112,
     "metadata": {},
     "output_type": "execute_result"
    }
   ],
   "source": [
    "jobData_df.info"
   ]
  },
  {
   "cell_type": "code",
   "execution_count": 113,
   "id": "66b1735b",
   "metadata": {},
   "outputs": [
    {
     "data": {
      "text/plain": [
       "0               NaN\n",
       "1               NaN\n",
       "2               NaN\n",
       "3               NaN\n",
       "4               NaN\n",
       "5               NaN\n",
       "6       20000-28000\n",
       "7               NaN\n",
       "8               NaN\n",
       "9               NaN\n",
       "10    100000-120000\n",
       "11              NaN\n",
       "12              NaN\n",
       "13              NaN\n",
       "14              NaN\n",
       "15    120000-150000\n",
       "16              NaN\n",
       "17              NaN\n",
       "18              NaN\n",
       "19              NaN\n",
       "20              NaN\n",
       "21              NaN\n",
       "22              NaN\n",
       "23    100000-120000\n",
       "24              NaN\n",
       "25              NaN\n",
       "26              NaN\n",
       "27              NaN\n",
       "28              NaN\n",
       "29              NaN\n",
       "30              NaN\n",
       "31      50000-65000\n",
       "32              NaN\n",
       "33              NaN\n",
       "34              NaN\n",
       "35              NaN\n",
       "36              NaN\n",
       "37              NaN\n",
       "38              NaN\n",
       "39              NaN\n",
       "Name: salary_range, dtype: object"
      ]
     },
     "execution_count": 113,
     "metadata": {},
     "output_type": "execute_result"
    }
   ],
   "source": [
    "jobData_df['salary_range'].head(40)"
   ]
  },
  {
   "cell_type": "code",
   "execution_count": 114,
   "id": "7c316ef4",
   "metadata": {},
   "outputs": [
    {
     "data": {
      "text/plain": [
       "job_id                     0\n",
       "title                      0\n",
       "location                 346\n",
       "department             11547\n",
       "salary_range           15012\n",
       "company_profile         3308\n",
       "description                1\n",
       "requirements            2695\n",
       "benefits                7210\n",
       "telecommuting              0\n",
       "has_company_logo           0\n",
       "has_questions              0\n",
       "employment_type         3471\n",
       "required_experience     7050\n",
       "required_education      8105\n",
       "industry                4903\n",
       "function                6455\n",
       "fraudulent                 0\n",
       "dtype: int64"
      ]
     },
     "execution_count": 114,
     "metadata": {},
     "output_type": "execute_result"
    }
   ],
   "source": [
    "jobData_df.isnull().sum()"
   ]
  },
  {
   "cell_type": "markdown",
   "id": "52e33e5b",
   "metadata": {},
   "source": [
    "The first task is to handle null values within the dataset."
   ]
  },
  {
   "cell_type": "code",
   "execution_count": 115,
   "id": "879cfaba",
   "metadata": {},
   "outputs": [
    {
     "data": {
      "text/plain": [
       "job_id                 17880\n",
       "title                  17880\n",
       "location               17534\n",
       "department              6333\n",
       "salary_range            2868\n",
       "company_profile        14572\n",
       "description            17879\n",
       "requirements           15185\n",
       "benefits               10670\n",
       "telecommuting          17880\n",
       "has_company_logo       17880\n",
       "has_questions          17880\n",
       "employment_type        14409\n",
       "required_experience    10830\n",
       "required_education      9775\n",
       "industry               12977\n",
       "function               11425\n",
       "fraudulent             17880\n",
       "dtype: int64"
      ]
     },
     "execution_count": 115,
     "metadata": {},
     "output_type": "execute_result"
    }
   ],
   "source": [
    "jobData_df.count()"
   ]
  },
  {
   "cell_type": "code",
   "execution_count": 116,
   "id": "3b6c6f7b",
   "metadata": {},
   "outputs": [
    {
     "data": {
      "text/plain": [
       "GB, LND, London                       718\n",
       "US, NY, New York                      658\n",
       "US, CA, San Francisco                 472\n",
       "GR, I, Athens                         464\n",
       "US, ,                                 339\n",
       "                                     ... \n",
       "DE, BY, Munich / Italy / Spain          1\n",
       "US, MI, Allendale charter Township      1\n",
       "US, WI, Western Wisconsin               1\n",
       "US, NJ, Englewood                       1\n",
       "US, KY, louisville                      1\n",
       "Name: location, Length: 3105, dtype: int64"
      ]
     },
     "execution_count": 116,
     "metadata": {},
     "output_type": "execute_result"
    }
   ],
   "source": [
    "jobData_df['location'].value_counts()"
   ]
  },
  {
   "cell_type": "code",
   "execution_count": 117,
   "id": "70179f9c",
   "metadata": {},
   "outputs": [],
   "source": [
    "locationFreq = jobData_df['location'].value_counts()"
   ]
  },
  {
   "cell_type": "code",
   "execution_count": 64,
   "id": "80b05557",
   "metadata": {},
   "outputs": [
    {
     "data": {
      "text/plain": [
       "GB, LND, London          718\n",
       "US, NY, New York         658\n",
       "US, CA, San Francisco    472\n",
       "GR, I, Athens            464\n",
       "US, ,                    339\n",
       "US, TX, Houston          269\n",
       "US, IL, Chicago          255\n",
       "US, DC, Washington       251\n",
       "DE, BE, Berlin           221\n",
       "NZ, N, Auckland          218\n",
       "US, CA, Los Angeles      185\n",
       "GB, , London             179\n",
       "US, TX, Austin           174\n",
       "US, CA, San Diego        164\n",
       "GB, ,                    138\n",
       "US, GA, Atlanta          135\n",
       "US, OR, Portland         131\n",
       "GB, LND,                 131\n",
       "CA, ON, Toronto          123\n",
       "US, MA, Boston           117\n",
       "Name: location, dtype: int64"
      ]
     },
     "execution_count": 64,
     "metadata": {},
     "output_type": "execute_result"
    }
   ],
   "source": [
    "locationFreq.nlargest(n=20)"
   ]
  },
  {
   "cell_type": "markdown",
   "id": "cdfa1237",
   "metadata": {},
   "source": [
    "For location, my approach is going to start with reclassifying by just country. Then, I will convert country values to integer datatypes for ease of processing later."
   ]
  },
  {
   "cell_type": "code",
   "execution_count": 118,
   "id": "acd055d3",
   "metadata": {},
   "outputs": [],
   "source": [
    "start, stop, step = 0,2,1"
   ]
  },
  {
   "cell_type": "code",
   "execution_count": 119,
   "id": "ccc2f2dc",
   "metadata": {},
   "outputs": [],
   "source": [
    "jobData_df[\"location\"]= jobData_df[\"location\"].astype(str)"
   ]
  },
  {
   "cell_type": "code",
   "execution_count": 120,
   "id": "80bff03d",
   "metadata": {},
   "outputs": [],
   "source": [
    "jobData_df[\"location\"]= jobData_df[\"location\"].str.slice(start, stop, step)"
   ]
  },
  {
   "cell_type": "code",
   "execution_count": 126,
   "id": "15ff50a8",
   "metadata": {},
   "outputs": [],
   "source": [
    "job_2 = jobData_df['location']"
   ]
  },
  {
   "cell_type": "code",
   "execution_count": 127,
   "id": "288fa599",
   "metadata": {},
   "outputs": [
    {
     "data": {
      "text/plain": [
       "0        US\n",
       "1        NZ\n",
       "2        US\n",
       "3        US\n",
       "4        US\n",
       "         ..\n",
       "17875    CA\n",
       "17876    US\n",
       "17877    US\n",
       "17878    NG\n",
       "17879    NZ\n",
       "Name: location, Length: 17880, dtype: object"
      ]
     },
     "execution_count": 127,
     "metadata": {},
     "output_type": "execute_result"
    }
   ],
   "source": [
    "job_2"
   ]
  },
  {
   "cell_type": "code",
   "execution_count": 85,
   "id": "7562cfaf",
   "metadata": {},
   "outputs": [],
   "source": [
    "country = jobData_df['location']"
   ]
  },
  {
   "cell_type": "code",
   "execution_count": 89,
   "id": "2bcacb8f",
   "metadata": {},
   "outputs": [
    {
     "data": {
      "text/plain": [
       "0    10656\n",
       "1    10656\n",
       "2    10656\n",
       "3    10656\n",
       "4    10656\n",
       "Name: location, dtype: int64"
      ]
     },
     "execution_count": 89,
     "metadata": {},
     "output_type": "execute_result"
    }
   ],
   "source": [
    "country.head()"
   ]
  },
  {
   "cell_type": "code",
   "execution_count": 73,
   "id": "a1deb842",
   "metadata": {},
   "outputs": [
    {
     "data": {
      "text/plain": [
       "count     17880\n",
       "unique       91\n",
       "top          US\n",
       "freq      10656\n",
       "Name: location, dtype: object"
      ]
     },
     "execution_count": 73,
     "metadata": {},
     "output_type": "execute_result"
    }
   ],
   "source": [
    "jobData_df['location'].describe()"
   ]
  },
  {
   "cell_type": "code",
   "execution_count": 74,
   "id": "0492d1c1",
   "metadata": {},
   "outputs": [],
   "source": [
    "topCountries = jobData_df['location'].value_counts()"
   ]
  },
  {
   "cell_type": "code",
   "execution_count": 79,
   "id": "8ed31d16",
   "metadata": {},
   "outputs": [
    {
     "data": {
      "text/plain": [
       "US    10656\n",
       "GB     2384\n",
       "GR      940\n",
       "CA      457\n",
       "DE      383\n",
       "na      346\n",
       "NZ      333\n",
       "IN      276\n",
       "AU      214\n",
       "PH      132\n",
       "NL      127\n",
       "BE      117\n",
       "IE      114\n",
       "SG       80\n",
       "HK       77\n",
       "PL       76\n",
       "IL       72\n",
       "EE       72\n",
       "FR       70\n",
       "ES       66\n",
       "Name: location, dtype: int64"
      ]
     },
     "execution_count": 79,
     "metadata": {},
     "output_type": "execute_result"
    }
   ],
   "source": [
    "topCountries.nlargest(n=20)"
   ]
  },
  {
   "cell_type": "code",
   "execution_count": 90,
   "id": "d01d7299",
   "metadata": {},
   "outputs": [
    {
     "name": "stdout",
     "output_type": "stream",
     "text": [
      "{10656: 1, 2384: 2, 940: 3, 457: 4, 383: 5, 346: 6, 333: 7, 276: 8, 214: 9, 132: 10, 127: 11, 117: 12, 114: 13, 80: 14, 77: 15, 76: 16, 72: 18, 70: 19, 66: 20, 54: 21, 52: 22, 49: 23, 46: 24, 42: 25, 40: 26, 36: 27, 31: 28, 29: 29, 27: 30, 23: 31, 21: 33, 20: 35, 18: 37, 17: 39, 15: 42, 14: 45, 13: 48, 11: 49, 10: 53, 9: 58, 8: 59, 7: 61, 6: 63, 4: 67, 3: 68, 2: 77, 1: 91}\n"
     ]
    }
   ],
   "source": [
    "dict_location = {topCountries:i+1 for i,topCountries in enumerate(topCountries)}\n",
    "print(dict_location)"
   ]
  },
  {
   "cell_type": "code",
   "execution_count": 98,
   "id": "a679ba2e",
   "metadata": {},
   "outputs": [],
   "source": [
    "charDict = {'A': 1,'B':2,'C':3,'D':4,'E':5,'F':6,'G':7,'H':8,'I':9,'J':10,'K':11,'L':12,'M':13,'N':14,'O':15,'P':16,'Q':17,'R':18,'S':19,'T':20,'U':21,'V':22,'W':23,'X':24,'Y':25,'Z':26}"
   ]
  },
  {
   "cell_type": "markdown",
   "id": "f19617cb",
   "metadata": {},
   "source": [
    "Created character dictionary for int conversion"
   ]
  },
  {
   "cell_type": "code",
   "execution_count": 100,
   "id": "145f1f41",
   "metadata": {},
   "outputs": [
    {
     "name": "stdout",
     "output_type": "stream",
     "text": [
      "2\n"
     ]
    }
   ],
   "source": [
    "jobData_df['location']=jobData_df['location'].map({'City Hotel': 0, 'Resort Hotel':1})"
   ]
  },
  {
   "cell_type": "code",
   "execution_count": 105,
   "id": "d85c7f84",
   "metadata": {},
   "outputs": [
    {
     "data": {
      "text/plain": [
       "0        10656\n",
       "1        10656\n",
       "2        10656\n",
       "3        10656\n",
       "4        10656\n",
       "         ...  \n",
       "17875    10656\n",
       "17876    10656\n",
       "17877    10656\n",
       "17878    10656\n",
       "17879    10656\n",
       "Name: location, Length: 17880, dtype: int64"
      ]
     },
     "execution_count": 105,
     "metadata": {},
     "output_type": "execute_result"
    }
   ],
   "source": [
    "jobData_df['location']"
   ]
  },
  {
   "cell_type": "markdown",
   "id": "133f39f0",
   "metadata": {},
   "source": [
    "# Training and Validation Datasets"
   ]
  },
  {
   "cell_type": "markdown",
   "id": "22dd94c7",
   "metadata": {},
   "source": [
    "# Train Classifier"
   ]
  },
  {
   "cell_type": "code",
   "execution_count": null,
   "id": "48829f92",
   "metadata": {},
   "outputs": [],
   "source": []
  },
  {
   "cell_type": "code",
   "execution_count": null,
   "id": "958121ac",
   "metadata": {},
   "outputs": [],
   "source": []
  },
  {
   "cell_type": "code",
   "execution_count": null,
   "id": "76c87cde",
   "metadata": {},
   "outputs": [],
   "source": []
  }
 ],
 "metadata": {
  "kernelspec": {
   "display_name": "Python 3",
   "language": "python",
   "name": "python3"
  },
  "language_info": {
   "codemirror_mode": {
    "name": "ipython",
    "version": 3
   },
   "file_extension": ".py",
   "mimetype": "text/x-python",
   "name": "python",
   "nbconvert_exporter": "python",
   "pygments_lexer": "ipython3",
   "version": "3.8.8"
  }
 },
 "nbformat": 4,
 "nbformat_minor": 5
}
